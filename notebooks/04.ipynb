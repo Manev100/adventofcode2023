{
 "cells": [
  {
   "cell_type": "code",
   "execution_count": 1,
   "metadata": {},
   "outputs": [],
   "source": [
    "import numpy as np\n",
    "import re"
   ]
  },
  {
   "cell_type": "code",
   "execution_count": 3,
   "metadata": {},
   "outputs": [
    {
     "data": {
      "text/plain": [
       "['Card   1: 91 73 74 57 24 99 31 70 60  8 | 89 70 43 24 62 30 91 87 60 57 90  2 27  3 31 25 39 83 64 73 99  8 74 37 49',\n",
       " 'Card   2: 92 38 67 81 28 16 82 30 11 45 | 92 84 67 40 75 44 57 89 11 28 99 81 83 14 77 51 61 27 16 45 30 63 53 38 82',\n",
       " 'Card   3: 16 21 36 18  9  5 27 43 76 52 | 75 44 11 20 54 33 40 18 22 13 85 17 51 98 77 12 73 58 84 64 76 90 53 95  6',\n",
       " 'Card   4:  2  4 14 88 19 99  3 84  1 77 | 61 59 53 88 31 72 62 11  9 50 46 42 66 79 55 87 30 63 37 69 95 83 15 21 35',\n",
       " 'Card   5: 58 85 47  8 52 68 81 16 56 64 | 79 54 88 17 74 89 51 40 98 18 69 48  1 55 26 13 87 45 78 33 65 83 67 36 37',\n",
       " 'Card   6: 31 46 60 12 68 44  5 90  2 15 | 12 81 36 24 48 68 37 27 97 44 85  5 42 59 52 47  2 90  3 63 26 28 31 87 53',\n",
       " 'Card   7: 95 84 91 68 23 15 76 80 30 73 | 55 70 60 43 18 73 30 92 15  9 23 39 95 17 98 33 25 91 80 68  1 76 61 84 35',\n",
       " 'Card   8: 79  7 17 68 19 11 70 51 78 24 | 56 30 34 88 74 65 55 60 61 51 42 78 12 52 26 18 49 38 14 10 97 50 85 33 66',\n",
       " 'Card   9: 18 30 91 65 25 22 17 12 99  5 | 26  9 30 23 44 64 91 95 36 34  8 18  4 22 81 99 94 15 59 70 19 65 25 28 63',\n",
       " 'Card  10: 53  3  8 32 86 87 77 78 59 25 | 72 42 17 69 63 67 82 84 56 22 32 75 33 14 77 61 95 92 57 59 16 20 90 76 68']"
      ]
     },
     "execution_count": 3,
     "metadata": {},
     "output_type": "execute_result"
    }
   ],
   "source": [
    "with open(\"04-input\", \"r\") as file:\n",
    "    lines = file.readlines()\n",
    "data = [line.replace(\"\\n\", \"\") for line in lines]\n",
    "data[:10]"
   ]
  },
  {
   "cell_type": "code",
   "execution_count": 2,
   "metadata": {},
   "outputs": [
    {
     "data": {
      "text/plain": [
       "['Card 1: 41 48 83 86 17 | 83 86  6 31 17  9 48 53',\n",
       " 'Card 2: 13 32 20 16 61 | 61 30 68 82 17 32 24 19',\n",
       " 'Card 3:  1 21 53 59 44 | 69 82 63 72 16 21 14  1',\n",
       " 'Card 4: 41 92 73 84 69 | 59 84 76 51 58  5 54 83',\n",
       " 'Card 5: 87 83 26 28 32 | 88 30 70 12 93 22 82 36',\n",
       " 'Card 6: 31 18 13 56 72 | 74 77 10 23 35 67 36 11']"
      ]
     },
     "execution_count": 2,
     "metadata": {},
     "output_type": "execute_result"
    }
   ],
   "source": [
    "test_data = \"\"\"Card 1: 41 48 83 86 17 | 83 86  6 31 17  9 48 53\n",
    "Card 2: 13 32 20 16 61 | 61 30 68 82 17 32 24 19\n",
    "Card 3:  1 21 53 59 44 | 69 82 63 72 16 21 14  1\n",
    "Card 4: 41 92 73 84 69 | 59 84 76 51 58  5 54 83\n",
    "Card 5: 87 83 26 28 32 | 88 30 70 12 93 22 82 36\n",
    "Card 6: 31 18 13 56 72 | 74 77 10 23 35 67 36 11\"\"\".split(\"\\n\")\n",
    "test_data"
   ]
  },
  {
   "cell_type": "code",
   "execution_count": 27,
   "metadata": {},
   "outputs": [
    {
     "name": "stdout",
     "output_type": "stream",
     "text": [
      "20855\n"
     ]
    }
   ],
   "source": [
    "def solution (data):\n",
    "    card_points = {}\n",
    "    for card in data:\n",
    "        card_id = card.split(\":\")[0].split(\" \")[-1]\n",
    "        winning_nums, have_nums = card.split(\":\")[1].split(\"|\")\n",
    "        winning_nums = [int(num) for num in winning_nums.strip().split(\" \") if num != \"\"]\n",
    "        have_nums = [int(num) for num in have_nums.strip().split(\" \") if num != \"\"]\n",
    "        matches = set(winning_nums).intersection(have_nums)\n",
    "\n",
    "        if len(matches) == 0:\n",
    "            points = 0\n",
    "        else:\n",
    "            points = 2**(len(matches)-1)\n",
    "        card_points[card_id] = points\n",
    "        \n",
    "    return sum(card_points.values())\n",
    "\n",
    "\n",
    "sol = solution(data)\n",
    "# sol = solution(test_data)\n",
    "print(sol)"
   ]
  },
  {
   "cell_type": "code",
   "execution_count": 35,
   "metadata": {},
   "outputs": [
    {
     "name": "stdout",
     "output_type": "stream",
     "text": [
      "{1: 1, 2: 2, 3: 4, 4: 8, 5: 16, 6: 4, 7: 8, 8: 16, 9: 32, 10: 64, 11: 112, 12: 223, 13: 444, 14: 597, 15: 1194, 16: 1791, 17: 3106, 18: 4413, 19: 7632, 20: 15264, 21: 10851, 22: 10852, 23: 1, 24: 2, 25: 4, 26: 8, 27: 16, 28: 32, 29: 64, 30: 96, 31: 192, 32: 380, 33: 760, 34: 1139, 35: 2276, 36: 4552, 37: 8272, 38: 16528, 39: 23549, 40: 44822, 41: 89644, 42: 28102, 43: 1, 44: 2, 45: 4, 46: 8, 47: 16, 48: 32, 49: 64, 50: 128, 51: 96, 52: 192, 53: 384, 54: 767, 55: 1428, 56: 2852, 57: 5640, 58: 10497, 59: 20994, 60: 40176, 61: 64215, 62: 125578, 63: 210788, 64: 1, 65: 2, 66: 4, 67: 8, 68: 16, 69: 32, 70: 62, 71: 124, 72: 216, 73: 432, 74: 802, 75: 1603, 76: 3206, 77: 6392, 78: 11173, 79: 21544, 80: 36572, 81: 69722, 82: 139444, 83: 187622, 84: 374812, 85: 514257, 86: 1028514, 87: 1, 88: 1, 89: 2, 90: 4, 91: 8, 92: 16, 93: 32, 94: 64, 95: 128, 96: 256, 97: 512, 98: 760, 99: 1391, 100: 2152, 101: 2153, 102: 4306, 103: 1, 104: 2, 105: 4, 106: 8, 107: 16, 108: 32, 109: 64, 110: 127, 111: 230, 112: 392, 113: 425, 114: 850, 115: 1275, 116: 1275, 117: 851, 118: 1, 119: 2, 120: 2, 121: 4, 122: 7, 123: 7, 124: 10, 125: 13, 126: 26, 127: 52, 128: 52, 129: 104, 130: 208, 131: 297, 132: 594, 133: 980, 134: 1960, 135: 3884, 136: 3290, 137: 6528, 138: 8489, 139: 1, 140: 2, 141: 4, 142: 8, 143: 16, 144: 32, 145: 64, 146: 120, 147: 240, 148: 416, 149: 832, 150: 1663, 151: 3324, 152: 6612, 153: 13224, 154: 23108, 155: 26380, 156: 52760, 157: 50977, 158: 101714, 159: 176632, 160: 352432, 161: 603150, 162: 426518, 163: 352433, 164: 1, 165: 2, 166: 4, 167: 8, 168: 16, 169: 32, 170: 64, 171: 128, 172: 246, 173: 491, 174: 982, 175: 1473, 176: 1191, 177: 2366, 178: 2302, 179: 4476, 180: 6650, 181: 6650, 182: 7633, 183: 7633, 184: 1, 185: 2, 186: 4, 187: 8, 188: 16, 189: 32, 190: 64, 191: 128, 192: 239, 193: 414, 194: 828, 195: 1656, 196: 2478, 197: 4956, 198: 8248, 199: 8216, 200: 8870, 201: 17087}\n",
      "5489600\n"
     ]
    }
   ],
   "source": [
    "def card_matches(card):\n",
    "    winning_nums, have_nums = card.split(\":\")[1].split(\"|\")\n",
    "    winning_nums = [int(num) for num in winning_nums.strip().split(\" \") if num != \"\"]\n",
    "    have_nums = [int(num) for num in have_nums.strip().split(\" \") if num != \"\"]\n",
    "    matches = set(winning_nums).intersection(have_nums)\n",
    "    # print(sorted(winning_nums), \"|\", sorted(have_nums) )\n",
    "    # print(matches)\n",
    "    return len(matches)\n",
    "    \n",
    "\n",
    "def solution (data):\n",
    "    card_points = {}\n",
    "    card_count = {i: 1 for i in range(1, len(data) + 1) }\n",
    "    for card in data:\n",
    "        card_id = int(card.split(\":\")[0].split(\" \")[-1])\n",
    "        num_matches = card_matches(card)\n",
    "        if num_matches > 0:\n",
    "            for i in range(card_id+1, card_id + num_matches + 1):\n",
    "                if i <= len(data):\n",
    "                    card_count[i] += card_count[card_id]\n",
    "        card_points[card_id] = 2**(num_matches-1) if num_matches > 0 else 0\n",
    "\n",
    "    print(card_count)\n",
    "    return sum( card_count.values())\n",
    "\n",
    "\n",
    "sol = solution(data)\n",
    "# sol = solution(test_data)\n",
    "print(sol)"
   ]
  }
 ],
 "metadata": {
  "kernelspec": {
   "display_name": "Python 3.8.8 ('base')",
   "language": "python",
   "name": "python3"
  },
  "language_info": {
   "codemirror_mode": {
    "name": "ipython",
    "version": 3
   },
   "file_extension": ".py",
   "mimetype": "text/x-python",
   "name": "python",
   "nbconvert_exporter": "python",
   "pygments_lexer": "ipython3",
   "version": "3.8.8"
  },
  "orig_nbformat": 4,
  "vscode": {
   "interpreter": {
    "hash": "155419e57043e3c6c91350c5428c6cc33fefa50a0d623da8550d7adba7f4f47b"
   }
  }
 },
 "nbformat": 4,
 "nbformat_minor": 2
}
