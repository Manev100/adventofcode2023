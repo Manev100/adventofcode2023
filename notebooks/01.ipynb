{
 "cells": [
  {
   "cell_type": "code",
   "execution_count": 5,
   "metadata": {},
   "outputs": [],
   "source": [
    "import numpy as np\n",
    "import re"
   ]
  },
  {
   "cell_type": "code",
   "execution_count": 2,
   "metadata": {},
   "outputs": [],
   "source": [
    "with open(\"01-input\", \"r\") as file:\n",
    "    lines = file.readlines()"
   ]
  },
  {
   "cell_type": "code",
   "execution_count": 54,
   "metadata": {},
   "outputs": [
    {
     "name": "stdout",
     "output_type": "stream",
     "text": [
      "8233\n"
     ]
    }
   ],
   "source": [
    "num_dict = {\n",
    "    \"one\": \"1\", \"two\": \"2\", \"three\": \"3\", \"four\": \"4\", \n",
    "    \"five\":\"5\", \"six\":\"6\", \"seven\":\"7\", \"eight\":\"8\", \"nine\":\"9\"}\n",
    "def text_to_numbers (line):\n",
    "    numbers = []\n",
    "    for start_idx in range(len(line)):\n",
    "        try:\n",
    "            num = int(line[start_idx])\n",
    "            numbers.append(str(num))\n",
    "        except:\n",
    "            for literal, num in num_dict.items():\n",
    "                end_idx = start_idx + len(literal)\n",
    "                if (end_idx <= len(line)) and (line[start_idx:end_idx] == literal):\n",
    "                    numbers.append(num)\n",
    "\n",
    "    return \"\".join(numbers)\n",
    "                    \n",
    "\n",
    "\n",
    "\n",
    "# trimmed_lines = [text_to_numbers(line) for line in [\"two1nine\",\n",
    "# \"eightwothree\",\n",
    "# \"abcone2threexyz\",\n",
    "# \"xtwone3four\",\n",
    "# \"4nineeightseven2\",\n",
    "# \"zoneight234\",\n",
    "# \"7pqrstsixteen\"]]\n",
    "trimmed_lines = [text_to_numbers(line) for line in lines]\n",
    "print(text_to_numbers(\"eightwo3three\"))"
   ]
  },
  {
   "cell_type": "code",
   "execution_count": 55,
   "metadata": {},
   "outputs": [
    {
     "data": {
      "text/plain": [
       "54728"
      ]
     },
     "execution_count": 55,
     "metadata": {},
     "output_type": "execute_result"
    }
   ],
   "source": [
    "sum([int(line[0] + line[-1])  for line in trimmed_lines])"
   ]
  },
  {
   "cell_type": "code",
   "execution_count": null,
   "metadata": {},
   "outputs": [],
   "source": []
  }
 ],
 "metadata": {
  "kernelspec": {
   "display_name": "Python 3.8.8 ('base')",
   "language": "python",
   "name": "python3"
  },
  "language_info": {
   "codemirror_mode": {
    "name": "ipython",
    "version": 3
   },
   "file_extension": ".py",
   "mimetype": "text/x-python",
   "name": "python",
   "nbconvert_exporter": "python",
   "pygments_lexer": "ipython3",
   "version": "3.8.8"
  },
  "orig_nbformat": 4,
  "vscode": {
   "interpreter": {
    "hash": "155419e57043e3c6c91350c5428c6cc33fefa50a0d623da8550d7adba7f4f47b"
   }
  }
 },
 "nbformat": 4,
 "nbformat_minor": 2
}
