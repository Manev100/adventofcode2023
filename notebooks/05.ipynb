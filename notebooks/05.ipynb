{
 "cells": [
  {
   "cell_type": "code",
   "execution_count": 1,
   "metadata": {},
   "outputs": [],
   "source": [
    "import numpy as np\n",
    "import re"
   ]
  },
  {
   "cell_type": "code",
   "execution_count": 2,
   "metadata": {},
   "outputs": [
    {
     "data": {
      "text/plain": [
       "'seeds: 515'"
      ]
     },
     "execution_count": 2,
     "metadata": {},
     "output_type": "execute_result"
    }
   ],
   "source": [
    "with open(\"05-input\", \"r\") as file:\n",
    "    lines = file.readlines()\n",
    "data = [line.replace(\"\\n\", \"\") for line in lines]\n",
    "data = \"\\n\".join(data)\n",
    "data[:10]"
   ]
  },
  {
   "cell_type": "code",
   "execution_count": 3,
   "metadata": {},
   "outputs": [],
   "source": [
    "test_data = \"\"\"seeds: 79 14 55 13\n",
    "\n",
    "seed-to-soil map:\n",
    "50 98 2\n",
    "52 50 48\n",
    "\n",
    "soil-to-fertilizer map:\n",
    "0 15 37\n",
    "37 52 2\n",
    "39 0 15\n",
    "\n",
    "fertilizer-to-water map:\n",
    "49 53 8\n",
    "0 11 42\n",
    "42 0 7\n",
    "57 7 4\n",
    "\n",
    "water-to-light map:\n",
    "88 18 7\n",
    "18 25 70\n",
    "\n",
    "light-to-temperature map:\n",
    "45 77 23\n",
    "81 45 19\n",
    "68 64 13\n",
    "\n",
    "temperature-to-humidity map:\n",
    "0 69 1\n",
    "1 0 69\n",
    "\n",
    "humidity-to-location map:\n",
    "60 56 37\n",
    "56 93 4\"\"\"\n",
    "\n",
    "def preprocess_data (data):\n",
    "    output = [line.split(\":\") for line in data.split(\"\\n\\n\")]\n",
    "    output = {line[0].replace(\" map\", \"\"): line[1].split(\"\\n\") for line in output}\n",
    "    output = {a: [item.strip() for item in b if item] for a,b in output.items()}\n",
    "    return output\n",
    "\n",
    "test_data = preprocess_data(test_data)"
   ]
  },
  {
   "cell_type": "code",
   "execution_count": 4,
   "metadata": {},
   "outputs": [],
   "source": [
    "data = preprocess_data(data)"
   ]
  },
  {
   "cell_type": "code",
   "execution_count": 5,
   "metadata": {},
   "outputs": [
    {
     "data": {
      "text/plain": [
       "{'seeds': ['79 14 55 13'],\n",
       " 'seed-to-soil': ['50 98 2', '52 50 48'],\n",
       " 'soil-to-fertilizer': ['0 15 37', '37 52 2', '39 0 15'],\n",
       " 'fertilizer-to-water': ['49 53 8', '0 11 42', '42 0 7', '57 7 4'],\n",
       " 'water-to-light': ['88 18 7', '18 25 70'],\n",
       " 'light-to-temperature': ['45 77 23', '81 45 19', '68 64 13'],\n",
       " 'temperature-to-humidity': ['0 69 1', '1 0 69'],\n",
       " 'humidity-to-location': ['60 56 37', '56 93 4']}"
      ]
     },
     "execution_count": 5,
     "metadata": {},
     "output_type": "execute_result"
    }
   ],
   "source": [
    "test_data"
   ]
  },
  {
   "cell_type": "code",
   "execution_count": 6,
   "metadata": {},
   "outputs": [
    {
     "data": {
      "text/plain": [
       "{515785082: 4202284817,\n",
       " 87905039: 2462188886,\n",
       " 2104518691: 4287508490,\n",
       " 503149843: 4050220846,\n",
       " 720333403: 2625685932,\n",
       " 385234193: 3507348822,\n",
       " 1357904101: 4074800133,\n",
       " 283386167: 892121398,\n",
       " 93533455: 2467817302,\n",
       " 128569683: 1104301931,\n",
       " 2844655470: 3337138858,\n",
       " 24994629: 1860608055,\n",
       " 3934515023: 2980390369,\n",
       " 67327818: 2441611665,\n",
       " 2655687716: 2734303452,\n",
       " 8403417: 457535844,\n",
       " 3120497449: 599623118,\n",
       " 107756881: 1083489129,\n",
       " 4055128129: 2353465194,\n",
       " 9498708: 458631135}"
      ]
     },
     "metadata": {},
     "output_type": "display_data"
    },
    {
     "name": "stdout",
     "output_type": "stream",
     "text": [
      "457535844\n"
     ]
    }
   ],
   "source": [
    "def solution (data):\n",
    "    seeds = [int(seed) for seed in data[\"seeds\"][0].split(\" \")]\n",
    "    map_names = ['seed-to-soil', 'soil-to-fertilizer', 'fertilizer-to-water', 'water-to-light', 'light-to-temperature', 'temperature-to-humidity', 'humidity-to-location']\n",
    "    map_ranges = {}\n",
    "    for map_name in map_names:\n",
    "        map_ranges[map_name] = {\"source\": [], \"dest\": []}\n",
    "        for map_range_str in data[map_name]:\n",
    "            parse_map_range = [int(num) for num in map_range_str.split(\" \")]\n",
    "            map_ranges[map_name][\"source\"] = map_ranges[map_name][\"source\"] + [(parse_map_range[1], parse_map_range[1] + (parse_map_range[2] - 1))]\n",
    "            map_ranges[map_name][\"dest\"] = map_ranges[map_name][\"dest\"] + [(parse_map_range[0], parse_map_range[0] + (parse_map_range[2] - 1))]\n",
    "    \n",
    "    seed_locations = {}\n",
    "    for seed in seeds:\n",
    "\n",
    "        source = seed\n",
    "        for map_name in map_names:\n",
    "            dest = source\n",
    "            for index, (start, end) in enumerate(map_ranges[map_name][\"source\"]):\n",
    "                # print(start, end)\n",
    "                if source >= start and source <= end:\n",
    "                    delta = source - start\n",
    "                    dest = map_ranges[map_name][\"dest\"][index][0] + delta\n",
    "\n",
    "            # print(map_name, \"source\", source, \"dest\", dest)\n",
    "            source = dest\n",
    "\n",
    "        seed_locations[seed] = dest\n",
    "\n",
    "\n",
    "    return seed_locations, map_ranges\n",
    "\n",
    "\n",
    "locs, ranges = solution(data)\n",
    "# locs, ranges = solution(test_data)\n",
    "# display(ranges)\n",
    "display(locs)\n",
    "print(min(locs.values()))"
   ]
  },
  {
   "cell_type": "code",
   "execution_count": 29,
   "metadata": {},
   "outputs": [
    {
     "name": "stdout",
     "output_type": "stream",
     "text": [
      "41222968\n"
     ]
    }
   ],
   "source": [
    "def solution (data, verbose=False):\n",
    "    seeds = [int(seed) for seed in data[\"seeds\"][0].split(\" \")]\n",
    "    map_names = ['seed-to-soil', 'soil-to-fertilizer', 'fertilizer-to-water', 'water-to-light', 'light-to-temperature', 'temperature-to-humidity', 'humidity-to-location']\n",
    "    map_ranges = {}\n",
    "    for map_name in map_names:\n",
    "        map_ranges[map_name] = {\"source\": [], \"dest\": []}\n",
    "        for map_range_str in data[map_name]:\n",
    "            parse_map_range = [int(num) for num in map_range_str.split(\" \")]\n",
    "            map_ranges[map_name][\"source\"] = map_ranges[map_name][\"source\"] + [(parse_map_range[1], parse_map_range[1] + (parse_map_range[2] - 1))]\n",
    "            map_ranges[map_name][\"dest\"] = map_ranges[map_name][\"dest\"] + [(parse_map_range[0], parse_map_range[0] + (parse_map_range[2] - 1))]\n",
    "    \n",
    "    all_seeds = []\n",
    "    for seed_start, seed_num in zip(seeds[0::2], seeds[1::2]):\n",
    "        next_seeds = [(seed_start, seed_start + (seed_num - 1))]\n",
    "        all_seeds = all_seeds + next_seeds\n",
    "\n",
    "    seed_locations = {}\n",
    "    for seed_start, seed_end in all_seeds:\n",
    "        source = [(seed_start, seed_end)]\n",
    "        for map_name in map_names:\n",
    "            if verbose:\n",
    "                print(\"Starting stage\", map_name, \"for source\", source)\n",
    "\n",
    "            mapped_ranges = []\n",
    "            not_mapped_ranges = source\n",
    "            for index, (start, end) in enumerate(map_ranges[map_name][\"source\"]):\n",
    "                if verbose:\n",
    "                    print(\"Map range\", start, end)\n",
    "                    print(\"Source Ranges\", not_mapped_ranges)\n",
    "                not_mapped_ranges_tmp = []\n",
    "                for src_start, src_end in not_mapped_ranges:\n",
    "\n",
    "                    if src_start > end or src_end < start:\n",
    "                        not_mapped_ranges_tmp += [(src_start, src_end)]\n",
    "                    elif src_start >= start and src_end <= end:\n",
    "                        delta_start = src_start - start\n",
    "                        dest_start = map_ranges[map_name][\"dest\"][index][0] + delta_start\n",
    "                        delta_end = end - src_end\n",
    "                        dest_end = map_ranges[map_name][\"dest\"][index][1] - delta_end\n",
    "                        mapped_ranges += [(dest_start, dest_end)]\n",
    "    \n",
    "                    elif src_start <= start and src_end >= end:\n",
    "                        if src_start < start:\n",
    "                            not_mapped_ranges_tmp += [(src_start, start - 1)]\n",
    "                        if src_end > end:\n",
    "                            not_mapped_ranges_tmp += [(end+1, src_end)]\n",
    "                        mapped_ranges += [tuple(map_ranges[map_name][\"dest\"][index])]\n",
    "\n",
    "                    elif src_start < start and src_end < end:\n",
    "                        not_mapped_ranges_tmp += [(src_start, start-1)]\n",
    "                        dest_start = map_ranges[map_name][\"dest\"][index][0]\n",
    "                        delta_end = end - src_end\n",
    "                        dest_end = map_ranges[map_name][\"dest\"][index][1] - delta_end\n",
    "                        mapped_ranges += [(dest_start, dest_end)]\n",
    "\n",
    "                    elif src_start > start and src_end > end:\n",
    "                        not_mapped_ranges_tmp += [(end+1, src_end)]\n",
    "                        delta_start = src_start - start\n",
    "                        dest_start = map_ranges[map_name][\"dest\"][index][0] + delta_start\n",
    "                        dest_end = map_ranges[map_name][\"dest\"][index][1]\n",
    "                        mapped_ranges += [(dest_start, dest_end)]\n",
    "\n",
    "                not_mapped_ranges = not_mapped_ranges_tmp\n",
    "                if verbose:\n",
    "                    print(\"Destination Ranges\", mapped_ranges)\n",
    "                    print(\"Not yet map ranges\", not_mapped_ranges)\n",
    "\n",
    "            # print(map_name, \"source\", source, \"dest\", dest)\n",
    "            source = mapped_ranges + not_mapped_ranges\n",
    "            if verbose:\n",
    "                print(\"Mapping of stage\", map_name, \" with destination\", source, \"\\n\")\n",
    "\n",
    "        seed_locations[(seed_start, seed_end)] = source\n",
    "\n",
    "    return seed_locations, map_ranges\n",
    "\n",
    "\n",
    "locs, ranges = solution(data, verbose=False)\n",
    "# locs, ranges = solution(test_data, verbose=True)\n",
    "# display(ranges)\n",
    "# display(locs)\n",
    "sol = min([loc[0] for seeds_loc in locs.values() for loc in seeds_loc])\n",
    "print(sol)"
   ]
  },
  {
   "cell_type": "code",
   "execution_count": null,
   "metadata": {},
   "outputs": [],
   "source": []
  }
 ],
 "metadata": {
  "kernelspec": {
   "display_name": "Python 3.8.8 ('base')",
   "language": "python",
   "name": "python3"
  },
  "language_info": {
   "codemirror_mode": {
    "name": "ipython",
    "version": 3
   },
   "file_extension": ".py",
   "mimetype": "text/x-python",
   "name": "python",
   "nbconvert_exporter": "python",
   "pygments_lexer": "ipython3",
   "version": "3.8.8"
  },
  "orig_nbformat": 4,
  "vscode": {
   "interpreter": {
    "hash": "155419e57043e3c6c91350c5428c6cc33fefa50a0d623da8550d7adba7f4f47b"
   }
  }
 },
 "nbformat": 4,
 "nbformat_minor": 2
}
