{
 "cells": [
  {
   "cell_type": "code",
   "execution_count": 1,
   "metadata": {},
   "outputs": [],
   "source": [
    "import numpy as np\n",
    "import re"
   ]
  },
  {
   "cell_type": "code",
   "execution_count": 4,
   "metadata": {},
   "outputs": [],
   "source": [
    "with open(\"02-input\", \"r\") as file:\n",
    "    lines = file.readlines()"
   ]
  },
  {
   "cell_type": "code",
   "execution_count": 16,
   "metadata": {},
   "outputs": [],
   "source": [
    "trimmed_lines = [line.replace(\"\\n\", \"\") for line in lines]"
   ]
  },
  {
   "cell_type": "code",
   "execution_count": 27,
   "metadata": {},
   "outputs": [
    {
     "name": "stdout",
     "output_type": "stream",
     "text": [
      "{'id': 4, 'green': 3, 'red': 14, 'blue': 15}\n"
     ]
    }
   ],
   "source": [
    "example = \"Game 4: 1 green, 3 red, 6 blue; 3 green, 6 red; 3 green, 15 blue, 14 red\"\n",
    "def parse_game(game_str):\n",
    "    game_id = game_str.split(\":\")[0].split(\"Game \")[1]\n",
    "    samples = game_str.split(\":\")[1].split(\";\")\n",
    "    samples_parsed = [{ball.split(\" \")[2]: int(ball.split(\" \")[1]) for ball in sample.split(\",\")} for sample in samples ]\n",
    "    max_balls = {\"id\": int(game_id), \"green\":0, \"red\":0, \"blue\":0}\n",
    "    for samples in samples_parsed:\n",
    "        for color, num in samples.items():\n",
    "            if num > max_balls[color]:\n",
    "                max_balls[color] = num\n",
    "    return max_balls\n",
    "\n",
    "print(parse_game(example))"
   ]
  },
  {
   "cell_type": "code",
   "execution_count": 28,
   "metadata": {},
   "outputs": [],
   "source": [
    "test_input = [\"Game 1: 3 blue, 4 red; 1 red, 2 green, 6 blue; 2 green\",\n",
    "\"Game 2: 1 blue, 2 green; 3 green, 4 blue, 1 red; 1 green, 1 blue\",\n",
    "\"Game 3: 8 green, 6 blue, 20 red; 5 blue, 4 red, 13 green; 5 green, 1 red\",\n",
    "\"Game 4: 1 green, 3 red, 6 blue; 3 green, 6 red; 3 green, 15 blue, 14 red\",\n",
    "\"Game 5: 6 red, 1 blue, 3 green; 2 blue, 1 red, 2 green\"]"
   ]
  },
  {
   "cell_type": "code",
   "execution_count": 32,
   "metadata": {},
   "outputs": [
    {
     "name": "stdout",
     "output_type": "stream",
     "text": [
      "2771\n"
     ]
    }
   ],
   "source": [
    "sum_possible_games = 0\n",
    "for line in trimmed_lines:\n",
    "    max_balls = parse_game(line)\n",
    "    checks_passed = True\n",
    "    for color, limit in [(\"red\", 12), (\"green\", 13), (\"blue\", 14)]:\n",
    "        if color in max_balls and max_balls[color] > limit:\n",
    "            checks_passed = False\n",
    "            break\n",
    "    if checks_passed:\n",
    "        sum_possible_games += max_balls[\"id\"]\n",
    "\n",
    "print(sum_possible_games)"
   ]
  },
  {
   "cell_type": "code",
   "execution_count": 33,
   "metadata": {},
   "outputs": [
    {
     "data": {
      "text/plain": [
       "70924"
      ]
     },
     "execution_count": 33,
     "metadata": {},
     "output_type": "execute_result"
    }
   ],
   "source": [
    "powers = []\n",
    "for line in trimmed_lines:\n",
    "    max_balls = parse_game(line)\n",
    "    max_balls.pop(\"id\")\n",
    "    power = 1\n",
    "    for val in max_balls.values():\n",
    "        if val != 0:\n",
    "            power *= val\n",
    "    powers.append(power)\n",
    "\n",
    "sum(powers)"
   ]
  },
  {
   "cell_type": "code",
   "execution_count": null,
   "metadata": {},
   "outputs": [],
   "source": []
  }
 ],
 "metadata": {
  "kernelspec": {
   "display_name": "Python 3.8.8 ('base')",
   "language": "python",
   "name": "python3"
  },
  "language_info": {
   "codemirror_mode": {
    "name": "ipython",
    "version": 3
   },
   "file_extension": ".py",
   "mimetype": "text/x-python",
   "name": "python",
   "nbconvert_exporter": "python",
   "pygments_lexer": "ipython3",
   "version": "3.8.8"
  },
  "orig_nbformat": 4,
  "vscode": {
   "interpreter": {
    "hash": "155419e57043e3c6c91350c5428c6cc33fefa50a0d623da8550d7adba7f4f47b"
   }
  }
 },
 "nbformat": 4,
 "nbformat_minor": 2
}
