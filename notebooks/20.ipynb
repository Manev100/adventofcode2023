{
 "cells": [
  {
   "cell_type": "markdown",
   "metadata": {},
   "source": [
    "# Topics\n",
    "\n",
    "- Graphs\n",
    "- Networks\n",
    "- Queue\n",
    "- The least common multiple (LCM) "
   ]
  },
  {
   "cell_type": "code",
   "execution_count": 1,
   "metadata": {},
   "outputs": [],
   "source": [
    "import numpy as np\n",
    "import pandas as pd\n",
    "import math\n",
    "import re\n",
    "import sys\n",
    "from shapely.geometry import Polygon\n",
    "import networkx as nx\n",
    "import matplotlib.pyplot as plt\n",
    "from collections import Counter, OrderedDict, namedtuple, defaultdict, ChainMap\n",
    "from queue import Queue\n",
    "from copy import deepcopy\n",
    "from functools import cmp_to_key\n",
    "from itertools import product, permutations, combinations, combinations_with_replacement\n",
    "from itertools import repeat\n",
    "from functools import cache\n",
    "import json"
   ]
  },
  {
   "cell_type": "code",
   "execution_count": 2,
   "metadata": {},
   "outputs": [],
   "source": [
    "sys.setrecursionlimit(1500)"
   ]
  },
  {
   "cell_type": "code",
   "execution_count": 3,
   "metadata": {},
   "outputs": [
    {
     "data": {
      "text/plain": [
       "'&pr -> pd, vx, vn, cl, hm\\n%hm -> qb\\n%nm -> dh, jv\\n%lv -> jv, tg\\n%dg -> tm, jm\\n%mt -> jv, zp\\n&ln -> kj\\n&kj -> rx\\n&dr -> kj\\n%dx -> ts\\n&qs -> kf, dr, sc, rg, gl, dx\\n%dh -> jv, mc\\n%rg -> qs, vq\\n%kt -> jv, mt\\n%lh -> qs, dl\\n%tp -> pf, jm\\n%bf -> vx, pr\\n%mv -> qs, gl\\n%ts -> ng, qs\\n%kf -> dx\\n%gv -> jm, km\\n%dl -> qs\\n%nd -> dg\\n%km -> jm\\n%ns -> pr, pn\\n%gl -> kf\\n%pd -> pr, jp\\n%xv -> nd, jm\\n%hf -> nm\\n%vx -> ns\\n%vq -> bs, qs\\n%sc -> mv\\n&jv -> hj, rc, kt, ln, zp, hf\\n%rc -> hj\\n%jp -> mx, pr\\n%mf -> gv, jm\\n&zx -> kj\\n%tg -> jv\\n%bs -> sc, qs\\n%ng -> qs, lh\\n%tk -> pr\\n%qb -> bf, pr\\n%pn -> pr, cb\\n%cl -> hm\\n%pb -> tp\\nbroadcaster -> kt, pd, xv, rg\\n&jm -> pb, tm, zx, mk, xv, nd\\n%vc -> jv, hf\\n%mc -> jv, lv\\n%mk -> pb\\n%tm -> mh\\n%cb -> pr, tk\\n%hj -> vc\\n%zp -> rc\\n%mh -> mk, jm\\n%pf -> mf, jm\\n%mx -> cl, pr\\n&vn -> kj'"
      ]
     },
     "execution_count": 3,
     "metadata": {},
     "output_type": "execute_result"
    }
   ],
   "source": [
    "with open(\"20-input\", \"r\") as file:\n",
    "    lines = file.readlines()\n",
    "data_raw = [line.replace(\"\\n\", \"\") for line in lines]\n",
    "data_raw = \"\\n\".join(data_raw)\n",
    "data_raw"
   ]
  },
  {
   "cell_type": "code",
   "execution_count": 4,
   "metadata": {},
   "outputs": [
    {
     "data": {
      "text/plain": [
       "{'inv': {'type': '&', 'destinations': ['a'], 'memory': {'c': 0}},\n",
       " 'c': {'type': '%', 'destinations': ['inv'], 'memory': 0},\n",
       " 'b': {'type': '%', 'destinations': ['c'], 'memory': 0},\n",
       " 'a': {'type': '%', 'destinations': ['b'], 'memory': 0},\n",
       " 'broadcaster': {'type': '', 'destinations': ['a', 'b', 'c']}}"
      ]
     },
     "metadata": {},
     "output_type": "display_data"
    },
    {
     "data": {
      "text/plain": [
       "{'con': {'type': '&', 'destinations': ['output'], 'memory': {'b': 0, 'a': 0}},\n",
       " 'b': {'type': '%', 'destinations': ['con'], 'memory': 0},\n",
       " 'inv': {'type': '&', 'destinations': ['b'], 'memory': {'a': 0}},\n",
       " 'a': {'type': '%', 'destinations': ['inv', 'con'], 'memory': 0},\n",
       " 'broadcaster': {'type': '', 'destinations': ['a']}}"
      ]
     },
     "execution_count": 4,
     "metadata": {},
     "output_type": "execute_result"
    }
   ],
   "source": [
    "test_data_raw = r\"\"\"broadcaster -> a, b, c\n",
    "%a -> b\n",
    "%b -> c\n",
    "%c -> inv\n",
    "&inv -> a\"\"\"\n",
    "\n",
    "test_data_raw2 = r\"\"\"broadcaster -> a\n",
    "%a -> inv, con\n",
    "&inv -> b\n",
    "%b -> con\n",
    "&con -> output\"\"\"\n",
    "\n",
    "\n",
    "Step = namedtuple(\"Step\", [\"direction\", \"number\", \"color\"])\n",
    "def preprocess_data (data):\n",
    "    # dtype='U10'\n",
    "\n",
    "    def parse_module(module):\n",
    "        mod, dest = module.split(\" -> \")[0], module.split(\" -> \")[1]\n",
    "        dest = dest.split(\", \")\n",
    "        module_dict = {}\n",
    "        if mod.startswith(\"%\"):\n",
    "            module_dict[mod.split(\"%\")[1]] = {\"type\": \"%\", \"destinations\": dest, \"memory\": 0}\n",
    "        elif mod.startswith(\"&\"):\n",
    "            module_dict[mod.split(\"&\")[1]] = {\"type\": \"&\", \"destinations\": dest}\n",
    "        else:\n",
    "            module_dict[mod] = {\"type\": \"\", \"destinations\": dest}\n",
    "        return module_dict\n",
    "\n",
    "    modules = [parse_module(module_str) for module_str in data.split(\"\\n\")]\n",
    "    modules = dict(ChainMap(*modules))\n",
    "\n",
    "    for mod, info in modules.items():\n",
    "        if info[\"type\"] == \"&\":\n",
    "            connected_mods = [ _mod   for _mod, _info in modules.items()  if mod in _info[\"destinations\"]]\n",
    "            info[\"memory\"] = {_mod: 0 for _mod in connected_mods}\n",
    "\n",
    "    # rows = [row.split(\" \") for row in data.split(\"\\n\")]\n",
    "    # steps = [Step(direction, int(num), color.split(\"(\")[1].split(\")\")[0]) for direction, num, color in rows]\n",
    "    return modules\n",
    "\n",
    "test_data = preprocess_data(test_data_raw)\n",
    "display(test_data)\n",
    "test_data2 = preprocess_data(test_data_raw2)\n",
    "test_data2"
   ]
  },
  {
   "cell_type": "code",
   "execution_count": 5,
   "metadata": {},
   "outputs": [
    {
     "data": {
      "text/plain": [
       "{'vn': {'type': '&', 'destinations': ['kj'], 'memory': {'pr': 0}},\n",
       " 'mx': {'type': '%', 'destinations': ['cl', 'pr'], 'memory': 0},\n",
       " 'pf': {'type': '%', 'destinations': ['mf', 'jm'], 'memory': 0},\n",
       " 'mh': {'type': '%', 'destinations': ['mk', 'jm'], 'memory': 0},\n",
       " 'zp': {'type': '%', 'destinations': ['rc'], 'memory': 0},\n",
       " 'hj': {'type': '%', 'destinations': ['vc'], 'memory': 0},\n",
       " 'cb': {'type': '%', 'destinations': ['pr', 'tk'], 'memory': 0},\n",
       " 'tm': {'type': '%', 'destinations': ['mh'], 'memory': 0},\n",
       " 'mk': {'type': '%', 'destinations': ['pb'], 'memory': 0},\n",
       " 'mc': {'type': '%', 'destinations': ['jv', 'lv'], 'memory': 0},\n",
       " 'vc': {'type': '%', 'destinations': ['jv', 'hf'], 'memory': 0},\n",
       " 'jm': {'type': '&',\n",
       "  'destinations': ['pb', 'tm', 'zx', 'mk', 'xv', 'nd'],\n",
       "  'memory': {'pf': 0,\n",
       "   'mh': 0,\n",
       "   'mf': 0,\n",
       "   'xv': 0,\n",
       "   'km': 0,\n",
       "   'gv': 0,\n",
       "   'tp': 0,\n",
       "   'dg': 0}},\n",
       " 'broadcaster': {'type': '', 'destinations': ['kt', 'pd', 'xv', 'rg']},\n",
       " 'pb': {'type': '%', 'destinations': ['tp'], 'memory': 0},\n",
       " 'cl': {'type': '%', 'destinations': ['hm'], 'memory': 0},\n",
       " 'pn': {'type': '%', 'destinations': ['pr', 'cb'], 'memory': 0},\n",
       " 'qb': {'type': '%', 'destinations': ['bf', 'pr'], 'memory': 0},\n",
       " 'tk': {'type': '%', 'destinations': ['pr'], 'memory': 0},\n",
       " 'ng': {'type': '%', 'destinations': ['qs', 'lh'], 'memory': 0},\n",
       " 'bs': {'type': '%', 'destinations': ['sc', 'qs'], 'memory': 0},\n",
       " 'tg': {'type': '%', 'destinations': ['jv'], 'memory': 0},\n",
       " 'zx': {'type': '&', 'destinations': ['kj'], 'memory': {'jm': 0}},\n",
       " 'mf': {'type': '%', 'destinations': ['gv', 'jm'], 'memory': 0},\n",
       " 'jp': {'type': '%', 'destinations': ['mx', 'pr'], 'memory': 0},\n",
       " 'rc': {'type': '%', 'destinations': ['hj'], 'memory': 0},\n",
       " 'jv': {'type': '&',\n",
       "  'destinations': ['hj', 'rc', 'kt', 'ln', 'zp', 'hf'],\n",
       "  'memory': {'mc': 0,\n",
       "   'vc': 0,\n",
       "   'tg': 0,\n",
       "   'kt': 0,\n",
       "   'dh': 0,\n",
       "   'mt': 0,\n",
       "   'lv': 0,\n",
       "   'nm': 0}},\n",
       " 'sc': {'type': '%', 'destinations': ['mv'], 'memory': 0},\n",
       " 'vq': {'type': '%', 'destinations': ['bs', 'qs'], 'memory': 0},\n",
       " 'vx': {'type': '%', 'destinations': ['ns'], 'memory': 0},\n",
       " 'hf': {'type': '%', 'destinations': ['nm'], 'memory': 0},\n",
       " 'xv': {'type': '%', 'destinations': ['nd', 'jm'], 'memory': 0},\n",
       " 'pd': {'type': '%', 'destinations': ['pr', 'jp'], 'memory': 0},\n",
       " 'gl': {'type': '%', 'destinations': ['kf'], 'memory': 0},\n",
       " 'ns': {'type': '%', 'destinations': ['pr', 'pn'], 'memory': 0},\n",
       " 'km': {'type': '%', 'destinations': ['jm'], 'memory': 0},\n",
       " 'nd': {'type': '%', 'destinations': ['dg'], 'memory': 0},\n",
       " 'dl': {'type': '%', 'destinations': ['qs'], 'memory': 0},\n",
       " 'gv': {'type': '%', 'destinations': ['jm', 'km'], 'memory': 0},\n",
       " 'kf': {'type': '%', 'destinations': ['dx'], 'memory': 0},\n",
       " 'ts': {'type': '%', 'destinations': ['ng', 'qs'], 'memory': 0},\n",
       " 'mv': {'type': '%', 'destinations': ['qs', 'gl'], 'memory': 0},\n",
       " 'bf': {'type': '%', 'destinations': ['vx', 'pr'], 'memory': 0},\n",
       " 'tp': {'type': '%', 'destinations': ['pf', 'jm'], 'memory': 0},\n",
       " 'lh': {'type': '%', 'destinations': ['qs', 'dl'], 'memory': 0},\n",
       " 'kt': {'type': '%', 'destinations': ['jv', 'mt'], 'memory': 0},\n",
       " 'rg': {'type': '%', 'destinations': ['qs', 'vq'], 'memory': 0},\n",
       " 'dh': {'type': '%', 'destinations': ['jv', 'mc'], 'memory': 0},\n",
       " 'qs': {'type': '&',\n",
       "  'destinations': ['kf', 'dr', 'sc', 'rg', 'gl', 'dx'],\n",
       "  'memory': {'ng': 0,\n",
       "   'bs': 0,\n",
       "   'vq': 0,\n",
       "   'dl': 0,\n",
       "   'ts': 0,\n",
       "   'mv': 0,\n",
       "   'lh': 0,\n",
       "   'rg': 0}},\n",
       " 'dx': {'type': '%', 'destinations': ['ts'], 'memory': 0},\n",
       " 'dr': {'type': '&', 'destinations': ['kj'], 'memory': {'qs': 0}},\n",
       " 'kj': {'type': '&',\n",
       "  'destinations': ['rx'],\n",
       "  'memory': {'vn': 0, 'zx': 0, 'dr': 0, 'ln': 0}},\n",
       " 'ln': {'type': '&', 'destinations': ['kj'], 'memory': {'jv': 0}},\n",
       " 'mt': {'type': '%', 'destinations': ['jv', 'zp'], 'memory': 0},\n",
       " 'dg': {'type': '%', 'destinations': ['tm', 'jm'], 'memory': 0},\n",
       " 'lv': {'type': '%', 'destinations': ['jv', 'tg'], 'memory': 0},\n",
       " 'nm': {'type': '%', 'destinations': ['dh', 'jv'], 'memory': 0},\n",
       " 'hm': {'type': '%', 'destinations': ['qb'], 'memory': 0},\n",
       " 'pr': {'type': '&',\n",
       "  'destinations': ['pd', 'vx', 'vn', 'cl', 'hm'],\n",
       "  'memory': {'mx': 0,\n",
       "   'cb': 0,\n",
       "   'pn': 0,\n",
       "   'qb': 0,\n",
       "   'tk': 0,\n",
       "   'jp': 0,\n",
       "   'pd': 0,\n",
       "   'ns': 0,\n",
       "   'bf': 0}}}"
      ]
     },
     "execution_count": 5,
     "metadata": {},
     "output_type": "execute_result"
    }
   ],
   "source": [
    "data = preprocess_data(data_raw)\n",
    "data"
   ]
  },
  {
   "cell_type": "code",
   "execution_count": 60,
   "metadata": {},
   "outputs": [
    {
     "name": "stdout",
     "output_type": "stream",
     "text": [
      "(18691, 50814)\n",
      "949764474\n"
     ]
    }
   ],
   "source": [
    "def solution (data, verbose=False):\n",
    "    \n",
    "\n",
    "    def button_push(modules):\n",
    "        \n",
    "        q = Queue()\n",
    "        num_low_pulses = 1\n",
    "        num_high_pulses = 0\n",
    "        for dest in  modules[\"broadcaster\"][\"destinations\"]:\n",
    "            if verbose:\n",
    "                print(\"queing\", dest, 0 , \"broadcaster\")\n",
    "            q.put((dest, 0, \"broadcaster\"))\n",
    "            num_low_pulses += 1\n",
    "\n",
    "        while not q.empty():\n",
    "            mod, pulse, source = q.get()\n",
    "            if verbose:\n",
    "                print(\"dequeing\",  mod, pulse, source)\n",
    "            if mod not in modules:\n",
    "                continue\n",
    "            info = modules[mod]\n",
    "            mod_type = info[\"type\"]\n",
    "            pulse_next = 0\n",
    "            if mod_type == \"\":\n",
    "                pulse_next = pulse\n",
    "            elif mod_type == \"%\":\n",
    "                if pulse == 0:\n",
    "                    pulse_next = 1 if info[\"memory\"] == 0 else 0\n",
    "                    info[\"memory\"] = (info[\"memory\"]+1) % 2\n",
    "                else:\n",
    "                    continue\n",
    "            elif mod_type == \"&\":\n",
    "                info[\"memory\"][source] = pulse\n",
    "                if sum(info[\"memory\"].values()) == len(info[\"memory\"].values()):\n",
    "                    pulse_next = 0\n",
    "                else:\n",
    "                    pulse_next = 1\n",
    "            \n",
    "            for dest in info[\"destinations\"]:\n",
    "                if pulse_next == 0:\n",
    "                    num_low_pulses += 1\n",
    "                else:\n",
    "                    num_high_pulses += 1\n",
    "                if verbose:\n",
    "                    # print(\"queing\", dest, pulse_next, mod)\n",
    "                    print(mod, pulse_next, \"->\", dest)\n",
    "                q.put((dest, pulse_next, mod))\n",
    "\n",
    "\n",
    "\n",
    "        \n",
    "        return num_low_pulses, num_high_pulses\n",
    "        \n",
    "    total_low = 0\n",
    "    total_high = 0\n",
    "    modules = deepcopy(data)\n",
    "    \n",
    "    for i in range(1000):\n",
    "        low, high = button_push(modules)\n",
    "        total_low += low\n",
    "        total_high += high\n",
    "\n",
    "    return total_low, total_high\n",
    "\n",
    "\n",
    "\n",
    "sol = solution(data)\n",
    "# sol = solution(test_data, verbose=False)\n",
    "# sol = solution(test_data2, verbose=False)\n",
    "\n",
    "print(sol)\n",
    "print(sol[0]*sol[1])\n",
    "# display(sum(sol))\n"
   ]
  },
  {
   "cell_type": "markdown",
   "metadata": {},
   "source": [
    "# Part 2"
   ]
  },
  {
   "cell_type": "code",
   "execution_count": 109,
   "metadata": {},
   "outputs": [
    {
     "name": "stdout",
     "output_type": "stream",
     "text": [
      "3863 [('qs', 1)]\n",
      "3943 [('pr', 1)]\n",
      "3989 [('jm', 1)]\n",
      "4003 [('jv', 1)]\n",
      "7726 [('qs', 1)]\n",
      "7886 [('pr', 1)]\n",
      "7978 [('jm', 1)]\n",
      "8006 [('jv', 1)]\n",
      "0\n"
     ]
    }
   ],
   "source": [
    "def solution (data, verbose=False):\n",
    "    \n",
    "    def button_push(data):\n",
    "        modules = data\n",
    "        # for key, val in modules.items():\n",
    "        #     if val[\"type\"] == '&':\n",
    "        #         print(key, val[\"memory\"])\n",
    "        q = Queue()\n",
    "\n",
    "        nodes_of_interest = {\"pr\":\"vn\", \"jm\":\"zx\", \"qs\":\"dr\", \"jv\":\"ln\"}\n",
    "        low_pulses = {key:0 for key in nodes_of_interest.keys()}\n",
    "\n",
    "        for dest in  modules[\"broadcaster\"][\"destinations\"]:\n",
    "            if verbose:\n",
    "                print(\"queing\", dest, 0 , \"broadcaster\")\n",
    "            q.put((dest, 0, \"broadcaster\"))\n",
    "\n",
    "        while not q.empty():\n",
    "            mod, pulse, source = q.get()\n",
    "            if (source in nodes_of_interest.keys()) and (mod == nodes_of_interest[source])  and (pulse == 0):\n",
    "                low_pulses[source] = 1\n",
    "            if verbose:\n",
    "                print(\"dequeing\",  mod, pulse, source)\n",
    "            if mod not in modules:\n",
    "                continue\n",
    "            info = modules[mod]\n",
    "            mod_type = info[\"type\"]\n",
    "            pulse_next = 0\n",
    "            if mod_type == \"\":\n",
    "                pulse_next = pulse\n",
    "            elif mod_type == \"%\":\n",
    "                if pulse == 0:\n",
    "                    pulse_next = 1 if info[\"memory\"] == 0 else 0\n",
    "                    info[\"memory\"] = (info[\"memory\"]+1) % 2\n",
    "                else:\n",
    "                    continue\n",
    "            elif mod_type == \"&\":\n",
    "                info[\"memory\"][source] = pulse\n",
    "                if sum(info[\"memory\"].values()) == len(info[\"memory\"].values()):\n",
    "                    pulse_next = 0\n",
    "                else:\n",
    "                    pulse_next = 1\n",
    "            \n",
    "            for dest in info[\"destinations\"]:\n",
    "                if verbose:\n",
    "                    # print(\"queing\", dest, pulse_next, mod)\n",
    "                    print(mod, pulse_next, \"->\", dest)\n",
    "\n",
    "                if dest == \"rx\" and pulse_next==0:\n",
    "                    print(\"Send\", pulse_next, \"to\", dest)\n",
    "                q.put((dest, pulse_next, mod))\n",
    "\n",
    "\n",
    "\n",
    "        \n",
    "        return modules, low_pulses\n",
    "        \n",
    "    modules = deepcopy(data)\n",
    "    \n",
    "    active = []\n",
    "    for i in range(10000):\n",
    "        # print(\"Iteration\", i+1)\n",
    "        modules, low_pulses = button_push(modules)\n",
    "        if sum(low_pulses.values()) > 0:\n",
    "            print(i+1, [(key, val) for key, val in low_pulses.items() if val > 0])\n",
    "\n",
    "    return 0\n",
    "\n",
    "\n",
    "\n",
    "sol = solution(data)\n",
    "# sol = solution(test_data, verbose=False)\n",
    "# sol = solution(test_data2, verbose=False)\n",
    "\n",
    "print(sol)\n",
    "# display(sum(sol))\n"
   ]
  },
  {
   "cell_type": "markdown",
   "metadata": {},
   "source": [
    "- kj needs to send low to rx \n",
    "- that happens when ['vn', 'zx', 'dr', 'ln'] send 1 to kj\n",
    "- this happens when [\"pr\", \"jm\", \"qs\", \"jv\"] send 0 to their respective targets\n",
    "- qs: every 3863 buttonpresses\n",
    "- pr: every 3943 buttonpresses\n",
    "- jm: every 3989 buttonpresses\n",
    "- jv: every 4003 buttonpresses\n",
    "- use lcm again\n",
    "\n"
   ]
  },
  {
   "cell_type": "code",
   "execution_count": 110,
   "metadata": {},
   "outputs": [
    {
     "data": {
      "text/plain": [
       "243221023462303"
      ]
     },
     "execution_count": 110,
     "metadata": {},
     "output_type": "execute_result"
    }
   ],
   "source": [
    "numbers = [3863 , 3943 , 3989 , 4003]\n",
    "numbers = np.array(numbers, dtype=np.int64)\n",
    "np.lcm.reduce(numbers)"
   ]
  },
  {
   "cell_type": "markdown",
   "metadata": {},
   "source": [
    "### Network drawing"
   ]
  },
  {
   "cell_type": "code",
   "execution_count": 75,
   "metadata": {},
   "outputs": [
    {
     "name": "stderr",
     "output_type": "stream",
     "text": [
      "c:\\Users\\Marc\\anaconda3\\envs\\adventofcode\\Lib\\site-packages\\networkx\\drawing\\nx_pylab.py:437: UserWarning: No data for colormapping provided via 'c'. Parameters 'cmap' will be ignored\n",
      "  node_collection = ax.scatter(\n"
     ]
    },
    {
     "data": {
      "image/png": "[encoded data removed]",
      "text/plain": [
       "<Figure size 640x480 with 1 Axes>"
      ]
     },
     "metadata": {},
     "output_type": "display_data"
    }
   ],
   "source": [
    "edges = []\n",
    "for key in [\"kt\", 'dh', 'hf', 'hj', 'kt', 'lv', 'mc', 'mt', 'nm', 'rc', 'tg', 'vc', 'zp', \"ln\", \"kj\"]:\n",
    "    edges = edges + [(key, dest) for dest in data[key][\"destinations\"]]\n",
    "\n",
    "\n",
    "\n",
    "G = nx.DiGraph()\n",
    "G.add_edges_from(edges)\n",
    "\n",
    "val_map = {'A': 1.0,\n",
    "           'D': 0.5714285714285714,\n",
    "           'H': 0.0}\n",
    "\n",
    "values = [val_map.get(node, 0.5) for node in G.nodes()]\n",
    "\n",
    "pos = {key: (i, 0) for i, key in enumerate(['kt', 'mt', 'zp', 'rc', 'hj', 'vc', 'hf', 'nm', 'dh', 'mc', 'lv', 'tg'])}\n",
    "pos[\"jv\"] = (6,2)\n",
    "pos[\"ln\"] = (6,3)\n",
    "pos[\"kj\"] = (6,4)\n",
    "pos[\"rx\"] = (6,5)\n",
    "# Specify the edges you want here\n",
    "# red_edges = [('A', 'C'), ('E', 'C')]\n",
    "# edge_colours = ['black' if not edge in red_edges else 'red'\n",
    "#                 for edge in G.edges()]\n",
    "# black_edges = [edge for edge in G.edges() if edge not in red_edges]\n",
    "\n",
    "# Need to create a layout when doing\n",
    "# separate calls to draw nodes and edges\n",
    "# pos = nx.spring_layout(G)\n",
    "nx.draw_networkx_nodes(G, pos, cmap=plt.get_cmap('jet'), \n",
    "                       node_color = \"red\", node_size = 400)\n",
    "nx.draw_networkx_labels(G, pos)\n",
    "# nx.draw_networkx_edges(G, pos, edgelist=red_edges, edge_color='r', arrows=True)\n",
    "nx.draw_networkx_edges(G, pos, edgelist=edges, arrows=True)\n",
    "plt.show()"
   ]
  }
 ],
 "metadata": {
  "kernelspec": {
   "display_name": "Python 3.12.0 ('adventofcode')",
   "language": "python",
   "name": "python3"
  },
  "language_info": {
   "codemirror_mode": {
    "name": "ipython",
    "version": 3
   },
   "file_extension": ".py",
   "mimetype": "text/x-python",
   "name": "python",
   "nbconvert_exporter": "python",
   "pygments_lexer": "ipython3",
   "version": "3.10.11"
  },
  "orig_nbformat": 4,
  "vscode": {
   "interpreter": {
    "hash": "ba21515b4dedf5a3004e9982283c458bd126c5c04e714dcfb3c8424594718f1c"
   }
  }
 },
 "nbformat": 4,
 "nbformat_minor": 2
}
