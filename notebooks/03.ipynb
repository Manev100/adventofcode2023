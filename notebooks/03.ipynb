{
 "cells": [
  {
   "cell_type": "code",
   "execution_count": 1,
   "metadata": {},
   "outputs": [],
   "source": [
    "import numpy as np\n",
    "import re"
   ]
  },
  {
   "cell_type": "code",
   "execution_count": 3,
   "metadata": {},
   "outputs": [],
   "source": [
    "with open(\"03-input\", \"r\") as file:\n",
    "    lines = file.readlines()"
   ]
  },
  {
   "cell_type": "code",
   "execution_count": 4,
   "metadata": {},
   "outputs": [],
   "source": [
    "trimmed_lines = [line.replace(\"\\n\", \"\") for line in lines]"
   ]
  },
  {
   "cell_type": "code",
   "execution_count": 110,
   "metadata": {},
   "outputs": [],
   "source": [
    "def extract_numbers (data):\n",
    "    numbers = [] \n",
    "    count = 1\n",
    "    for row, line in enumerate(data):\n",
    "        for match in re.finditer(r'\\d+', line):\n",
    "            numbers.append({\"match_id\": count, \"value\": int(match.group()), \"row\": row, \"start\": match.start(), \"end\": match.end()})\n",
    "            count += 1\n",
    "    return numbers\n",
    "numbers = extract_numbers(trimmed_lines)"
   ]
  },
  {
   "cell_type": "code",
   "execution_count": 78,
   "metadata": {},
   "outputs": [],
   "source": [
    "data = np.array([list(line) for line in trimmed_lines])\n",
    "x_max, y_max = data.shape"
   ]
  },
  {
   "cell_type": "code",
   "execution_count": 79,
   "metadata": {},
   "outputs": [
    {
     "data": {
      "text/plain": [
       "[{'match_id': 1, 'value': 467, 'row': 0, 'start': 0, 'end': 3},\n",
       " {'match_id': 2, 'value': 114, 'row': 0, 'start': 5, 'end': 8},\n",
       " {'match_id': 3, 'value': 35, 'row': 2, 'start': 2, 'end': 4},\n",
       " {'match_id': 4, 'value': 633, 'row': 2, 'start': 6, 'end': 9},\n",
       " {'match_id': 5, 'value': 617, 'row': 4, 'start': 0, 'end': 3},\n",
       " {'match_id': 6, 'value': 58, 'row': 5, 'start': 7, 'end': 9},\n",
       " {'match_id': 7, 'value': 592, 'row': 6, 'start': 2, 'end': 5},\n",
       " {'match_id': 8, 'value': 755, 'row': 7, 'start': 6, 'end': 9},\n",
       " {'match_id': 9, 'value': 664, 'row': 9, 'start': 1, 'end': 4},\n",
       " {'match_id': 10, 'value': 598, 'row': 9, 'start': 5, 'end': 8}]"
      ]
     },
     "execution_count": 79,
     "metadata": {},
     "output_type": "execute_result"
    }
   ],
   "source": [
    "test_data_raw = \"\"\"467..114..\n",
    "...*......\n",
    "..35..633.\n",
    "......#...\n",
    "617*......\n",
    ".....+.58.\n",
    "..592.....\n",
    "......755.\n",
    "...$.*....\n",
    ".664.598..\"\"\"\n",
    "test_data = np.array([list(line) for line in test_data_raw.split(\"\\n\")])\n",
    "test_numbers  = extract_numbers(test_data_raw.split(\"\\n\"))\n",
    "test_numbers"
   ]
  },
  {
   "cell_type": "code",
   "execution_count": 92,
   "metadata": {},
   "outputs": [
    {
     "name": "stdout",
     "output_type": "stream",
     "text": [
      "[467, 35, 633, 617, 592, 755, 664, 598]\n",
      "4361\n"
     ]
    }
   ],
   "source": [
    "def check_number(num_data, data):\n",
    "    x_max, y_max = data.shape\n",
    "    row = num_data[\"row\"]\n",
    "    start = num_data[\"start\"]\n",
    "    end = num_data[\"end\"]\n",
    "    x_a = max(0, start-1)\n",
    "    x_b = min(x_max-1, end)\n",
    "    y_a = max(0, row-1)\n",
    "    y_b = min(y_max-1, row+1)\n",
    "\n",
    "    area = \"\".join(data[ y_a:(y_b+1), x_a:(x_b+1)].flatten().tolist())\n",
    "\n",
    "    return not all(e in ['.', '0', '1', '2', '3', '4', '5', '6', '7', '8', '9'] for e in area)\n",
    "\n",
    "\n",
    "parts = []\n",
    "for num_data in test_numbers:\n",
    "    if check_number(num_data, test_data):\n",
    "        parts.append(num_data[\"value\"])\n",
    "\n",
    "print(parts)\n",
    "print(sum(parts))"
   ]
  },
  {
   "cell_type": "code",
   "execution_count": null,
   "metadata": {},
   "outputs": [],
   "source": [
    "parts = []\n",
    "for num_data in numbers:\n",
    "    if check_number(num_data, data):\n",
    "        parts.append(num_data[\"value\"])\n",
    "\n",
    "print(parts)\n",
    "print(sum(parts))"
   ]
  },
  {
   "cell_type": "code",
   "execution_count": 114,
   "metadata": {},
   "outputs": [
    {
     "name": "stdout",
     "output_type": "stream",
     "text": [
      "{(1, 3): [467, 35], (4, 3): [617], (8, 5): [755, 598]}\n",
      "[16345, 451490]\n",
      "467835\n",
      "84900879\n"
     ]
    }
   ],
   "source": [
    "def check_number2(num_data, data):\n",
    "    x_max, y_max = data.shape\n",
    "    row = num_data[\"row\"]\n",
    "    start = num_data[\"start\"]\n",
    "    end = num_data[\"end\"]\n",
    "    x_a = max(0, start-1)\n",
    "    x_b = min(x_max-1, end)\n",
    "    y_a = max(0, row-1)\n",
    "    y_b = min(y_max-1, row+1)\n",
    "\n",
    "    area = data[ y_a:(y_b+1), x_a:(x_b+1)]\n",
    "    stars = np.argwhere(area=='*')\n",
    "    if stars.size > 0:\n",
    "        return [(point[0]+y_a, point[1]+x_a) for point in stars]\n",
    "    else:\n",
    "        return []\n",
    "\n",
    "    \n",
    "\n",
    "gears = {}\n",
    "for num_data in test_numbers:\n",
    "    stars = check_number2(num_data, test_data)\n",
    "    if stars:\n",
    "        for star in stars:\n",
    "            if star in gears:\n",
    "                gears[star] = gears[star] + [num_data[\"value\"]]\n",
    "            else:\n",
    "                gears[star] = [num_data[\"value\"]]\n",
    "\n",
    "gear_ratios = []\n",
    "for loc, numbers in gears.items():\n",
    "    if len(numbers) == 2:\n",
    "        gear_ratios.append(numbers[0] *  numbers[1])\n",
    "print(gears)\n",
    "print(gear_ratios)\n",
    "print(sum(gear_ratios))\n",
    "\n",
    "numbers = extract_numbers(trimmed_lines)\n",
    "gears = {}\n",
    "for num_data in numbers:\n",
    "    stars = check_number2(num_data, data)\n",
    "    if stars:\n",
    "        for star in stars:\n",
    "            if star in gears:\n",
    "                gears[star] = gears[star] + [num_data[\"value\"]]\n",
    "            else:\n",
    "                gears[star] = [num_data[\"value\"]]\n",
    "\n",
    "gear_ratios = []\n",
    "for loc, numbers in gears.items():\n",
    "    if len(numbers) == 2:\n",
    "        gear_ratios.append(numbers[0] *  numbers[1])\n",
    "\n",
    "print(sum(gear_ratios))"
   ]
  },
  {
   "cell_type": "code",
   "execution_count": null,
   "metadata": {},
   "outputs": [],
   "source": []
  }
 ],
 "metadata": {
  "kernelspec": {
   "display_name": "Python 3.8.8 ('base')",
   "language": "python",
   "name": "python3"
  },
  "language_info": {
   "codemirror_mode": {
    "name": "ipython",
    "version": 3
   },
   "file_extension": ".py",
   "mimetype": "text/x-python",
   "name": "python",
   "nbconvert_exporter": "python",
   "pygments_lexer": "ipython3",
   "version": "3.8.8"
  },
  "orig_nbformat": 4,
  "vscode": {
   "interpreter": {
    "hash": "155419e57043e3c6c91350c5428c6cc33fefa50a0d623da8550d7adba7f4f47b"
   }
  }
 },
 "nbformat": 4,
 "nbformat_minor": 2
}
