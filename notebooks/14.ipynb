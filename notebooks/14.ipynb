{
 "cells": [
  {
   "cell_type": "code",
   "execution_count": 49,
   "metadata": {},
   "outputs": [],
   "source": [
    "import numpy as np\n",
    "import pandas as pd\n",
    "import math\n",
    "import re\n",
    "from collections import Counter\n",
    "from functools import cmp_to_key\n",
    "from itertools import product, permutations, combinations, combinations_with_replacement\n",
    "from itertools import repeat\n",
    "from functools import cache"
   ]
  },
  {
   "cell_type": "code",
   "execution_count": 6,
   "metadata": {},
   "outputs": [
    {
     "data": {
      "text/plain": [
       "'#....#O##.....O.#...##...#OO.....##...#O...O..........OO......#..OO..O.O...O.O#O#..O...#.......O...#\\nO.....O#..O#O...OO.#.....O#.....O.O..O.O..O.O#.O.#...#...O.#.........#..#O.#......#O.O...#..#.##.##.\\n......##..#.O#..#.O.O......#.O#..O....#.#..#...#.O.#....#....O.#...#O#OOO.##...O............OO#.#..#\\n.OO.................#.#.O.#O.O.#...#..........##.O..#.O##..##O......#O...#.#...O...#......O.........\\n#.......O#...#.OO.##.O.......#...O......O#......#..#.#..O...##..O#..#O.O.....#..OO..O.O.....O.....O#\\n.O..O.OO...#...#O####...##.O.#..O......#O.O..O......O.......O....O....#..O...O.....OOO..#...O.....OO\\nOO.#O.....#.O.#O.#OOO...OO#.........#..O.#O.#O..##O...#.##..#.....#...#.....O...O...............O.OO\\n...OO..#....O.#O.....#.#.#..O...O.#....#....#O...O.........O..##O....O#.O.......OO#.O.O..O......OO..\\n...O....#....#.....O...O.#.O.O...O..#..#.O.....O.#....O#O#.##O....O...#....#......#.....#..O....#..O\\nOOOO#..##...##.....OO..O##.O.OOO#..O...O.#....O..OO##......O..#.O.#.....O.O#.#.#.O....#..........#O.\\n#.OO#O.O..#.O....#..O.OO#..OO...O.O...O.#.O...##.O.....O..OO.#O..#...O.##..#......O#O#OO#...##O.....\\n..#..##...O#.OO#.O.O....###O.O......#....#O..O..O.....O#O.#.....O#....O...#OO.....O###O.....O.OOO.O#\\nO.........OO..O...#.O.#O.#..O...O#.....O#.O...O.OO#.#.#...#...##...O#.OO.OO....O.OOO........#..OO.##\\n.....O..O........OO...OO#O..O.................#...#..#....#.O..#..O#..O..#....O##..#...#O.O.OO#O...#\\n....OO.#OO...O.O.OO.##..OO....O#....O......O..O....O......O...OOO.OO...#.......O.OO....O...OOO#...#.\\n....O......##..O.#O...O.O.O#.##..O.....OO.#..O..O..#.#.O..OO#..#O..#..O##.##..O#.O.O#.O#O#.O.#....O.\\n..O#.O.O#.##....##.O#..O....#O.O#...O....O..O###..#..OO.O..O.....O##..#...#.##.............OOO...OO.\\nO....##.#OOO...#....#...#....#.OO..#.O....O....O.....O##..O.....#....O.OO.O#.O.O.#.#.O#..##.O.O...O.\\n..#.O......#..O.....O.O.......O...O#O.O...O..O......#......##..##....OO......OO..#..O#.O#O#O.#..#...\\n...#O...O..O......O.#......OO..O..#O..#O#O...O.......OO#.#OO..#O....O.......#O.....#....OO....O....#\\n...O.OOOOO..#..O.O.O#..#....O#...##.#..#.O.O.O.......O.....#....#O.O.#O......#.OO...OOO...#....##O..\\n.#.......#.O...##..O.OO....O..#.#..#..O..O...##O.OO#.#.........O........O#.#..#O.....OOO##.#..O...OO\\n...O.....#..O#..##OOO....O.#..O.....OO.##..#OO.#...#O#..O#.OO..#.O....#OO.......O.OO.O.#O##..O.O.O#.\\n...#...###..#..#....#O#..#O......##.O.####.#.....O.O.......O#.#.O#.O..#..#.#...O...#...#O.OO...O....\\n#OO.#O..........#.OOO.....O...##..O.O..O#O.O##O...#...#....#....O.O.#.#O...O.#..O#.OOO..#..#.O...O..\\n.O....#OOO..O..#.#.O.#OOO.......O.#..#...#OO.##.#..OOOO...#.#..#....#..#....O.....#.#.OO....O.......\\n.OO...O#..#............O...#.#.OO.O#OO....#O..#....O.#O.OO......O.O.....O...O.#.....OO.##..#...#O.O.\\n..O..O#O.#OOO....#.OO....O....O..#.#.......#...............O...O....OO.O..#O...OO...#OO........OO...\\n#OO.O...O#.O.O.O#O.#...O.O......O#.O....#O.....O..#O#..O...O.OO.O.#O...O..O..#...O.##.O...OO..O.#O..\\n#..O...#O...OO..O..O.O.O...#.......#.....O.O....#...#..O....#.......##..O.O#.....O........#.....#..O\\n.#....O..O.........#..O...#....#O#..#...O.O.OOO...O...#.....##...##.#...OO#O..O....O..O...O#........\\n...O...O.O..#.#..#O........#####.O#....#O##OOO.O..O.O#.O.......OOOOO....#.##O..#...#.........O..O.OO\\n..#..#...OO#.OO..O....##.O..OO.O.O.#.#O#.O#...O...O.O.#O......OO..O.#.#..O.OO.......###OO.##O....O..\\n........##.O##O#..#......#.....O.O...#..#O#.........#....O...#..O..#....#..#.....O...O.O.O.#..##O.O.\\n.....O...O##...#.#...#O#....OO.....#O.O.O.#.#.#.#.....O..#..O.O.#..#.OOO....OO#...OO.O..O#O...O.#.#O\\n###....O.O..#O......OO.#.OO.##.O...#O.#...O.#.O....O....O....#..#...O..##.#..O.O...O...#.#.#.#.O#...\\n....O#..OO#..#...#.O.OO.O##.O..O...O...#..#.OO.O.O....##....O..O.O.OO...##O..O.#O...O#..#....O#O....\\n#....#....O.#.O...OO....O....#......#O###O##.......O..OO#O...#O#..O...O....##...#..###.O.#..........\\n#O#.#.#.....O.....#.#.O....O....OO#O......O#.#.OO#.....#.OO.O...OO##.O....O.O##...#.............#O..\\n..#.#..###.....O.O..O......O....O....#O.OO.O....OO..#.#O#......O..#..O.##.#.##..O.OO...O......##...#\\n...#.O..#.OO.........O..O.#O......#O..#..O#.O#......O#..OOO.O##....O....#.##O...O.........#O.##...O.\\n.....#O..O.#OO.O....#..OO..O#..O..O#..#.OO.#..O.O...O.....#.#O....O....O##.O.O..##O.O.O..O....#.O#..\\n##.O.O...##..O..O..#O..#.#..O#.#.O.....#..O.##.....O##..#O.#.....O....O....#.OOO#.....O...O....O..#.\\n.....#.O#.O#.O....O.#...#....#.#.....#..#O..#.O......O.O.O...##..OO..O.#..#..#.#...#.#...........OO.\\n....O#.#.O..#....O....#O.O.OO##O.........##O..#O.OO.OO..#....O.O#..###.O......##.O..#.#O..#.....#...\\n....O.O.#.O....#O.....##....#.O......O.......#..#.O.#..#O.#.OO.#.OO..##..O..#O...O.O.OO......O#O....\\nOO..O..O...#.......##OO.........#....O.#.OOO.O..OO..O.....#...O..#..O.....O..#...O.OO.....O#.O.O.O.#\\n.OO#......#O.#......O....#.#..#O..O...#.#.........OO..........O..O.....O.O..O##.O...O.O...#.........\\n..#.#OO.OO........#O..O...#O#OO...#..O..#.##.OO.#.....O..O.OOO..#..#.#....OO...##.OO..O#....O....O.O\\n.#.#.#..O.OO..O......O...O#O.OO.......#...O...O.#O...OO..O#.O.#.##............##.OOO#.OOO..#O.O#...O\\n......O...##OO.....#.##O#....#OO.O....#.#....#.....O.O......#...O.O#.##...O#............#....O#O.O.O\\n.O....#...O....#.##O.....O##.......#...O.....#....O.#O#.O..OO#O...#.........#...OO.O##..#..##....#.#\\n##O.#O......O..#.#...##.##.O##.#.....#OO#..#.........#O.O...#......#..O..O.O##..O.OO......O#O#O#..#.\\n......#.O#O.O...#O.OO.....O...O##.#.OO#..OO....#O..#....#.....O.#O.O.#O#..OO..O..#O.#.....O#......##\\n....###.......OO#O...O..#..#.#.....#.#...O..OO#.O..#OO#.O..O....OO.O.#.##O..#..O...OO.#.O.#......#..\\n#O.O....#...#.O..O..####....O#........O....O#..O..O..OO..OO...OOO..O..OOO......#.#....O..##.O#..#O##\\n..........O.#.O.O#..#.O..O#.#....#...#.##OO..OOO.....O##O#....#O.#....#.O...#O#.O.#.##..#O.O#.......\\n.....#...#O#......O#.O..........#O.O.OO..O..OO.#.............O#.#........O#.OOO##O...O.O#.#...#.....\\nO..O..O.........OO#...O.O...O....#.#.#...OO#...OOO...O........#.#O.OO#.O.....O.O..O#.OOO.O...O.OO...\\nOO#....#..O.#.O.O##O##.........#..O..#.O.##..O.##.#.OO..O.....##..#......OO..#...#...O..O..#.OO.#.O.\\n#.O....#..#.....#.##.#...O.O...O.O...O#...#...O..O...#...#..O.#.O#.OO.#....O....O#..#.O##...#...#..#\\n##...O..#.#......#O.O...#O.....#......OO...#OO..O......#.#..........O#..O..O..O.O.O....O...O...#O..#\\n..##.#O.#.OOO..O...O..O.O..O...##.....OOO#..O......#..O...........#O......O..#OO#..O.O.##....OO..O#.\\n.#..............O#..#..O#O...OO###.##....O.#.##..###.#O.#....#...#.OO.O#....O..OO..#OO#.O..........O\\n...#.#...#OO........#.O..#.O...#.O.O.#.....#......O#......#....#.##O.###.O....##.....O#OO.O....O##..\\n.O.O......O..#.....O......##O#..#..OO..#.#..O...#.O..#O.O#OO..#..O#.O....#...#O..O..#..O#.O.....O.OO\\nO.#.O.OO.OO.O......O..#.O...O#O..OO......O...#......O..O#O..##O.#OO....O......OO......#O......#...O.\\n.#O..O.#O..O.O#..O.#...#...O##O....#O.O##..#OO.....O..OO#.O##...#....#..##..OO.OO#..O...OO.....#.#.#\\nO#.OOO.#O..O.O#.O#O......OO...#O....O............#..#........#.O##..#O.O###.OO..#...#.....O........O\\nO......O.OO..#.#..#.......OOO.#.#........................O#O.#..O..........##.#..O#.......#.#....O..\\nO.#O...O#.#O.......O##O..#..O.#.#O.O.O...#OO..O.O##O.....O....OOO...##..OO....#.#..##...#..O.#.O.#.O\\n#..#.#O.#..##....OOO.....O......O.#O..#O..O.#O.O.#....O...O#.OO##..#...O###....###..#..O.#.O...#....\\n...O.......O.O.......#.#OOO....O.......#..O...O.........##..#.O.#O.O......#..OO.O.O......#.....OO...\\nO.....#O.#.#....#..#.O.OOO...#.O###......OO...O.O.O.###...O.O.......##..#......#..OO.O.....OO...O.OO\\nO.O.....#.#.#....O#OOO.....O.....#O...##O..#OO.O.......O.O.......#.O.#.........#..........O...#.OOO.\\nO....OO.#.#O##.O....#O#.OO..O...OO.#.#O.#.#.O...O#O...OO.#.O...##...OO..#OO.#......#O......#....O.O.\\nO...O......O..#..#.#...##..O..#.O.O......#....#.....O#O.O....O.#..O..............#.O...#...OO.....O#\\n....OO.......O...##O..#.O#..O#..O..O#.#.O#.#..O.O..#.......#O..OO.O.#....#..#.......OO..OOO.#O#...O.\\n.#.....O......O..O...O....#...OOO#...O#.#.#.#.OO.O.O...#..O..O#......#.O.....O.O.O....#...O#.....#.O\\n...O#........O......OOO..#.OO#.O.#.O..##......#.#O...O.O...O.#O.OO.OO..#..O...O.........#.O##..OO##.\\n..O..O.#O..#O..##....O.O.#O...O#.O.....##.....O......#...#.....OOO..O##.O#..#.#.O.......#O...O#...##\\n...O.OO..O.#.OO#....#.O#O..O...#O.O.###...##...O.O..#..O..#.O....#........#...#....O...O....#O#O.O.#\\n...OO.#...O...OOO..O.....#..#.O.#OO...O...O..#..O..O.O...O..#.#O.#OO.O.....O.O..#...O..O..O#.O#O...#\\nO...#...##.OO..OO.......#..O.O..OO.OO.O#......#.O#O.O.#..O.#.O.O.O#OO...#.....##O.OO.#OO....O...###.\\nO.............#.#..#.O....#....O...#..O..O#.O...OO.O.O........O#.O........OO..#....O...#O#O#.O.#OO.O\\nOO.........O...#.O.O...#.....O...#.OO#O.##............#....O....##.##..#.O..O....OO...OOO..O........\\nO.....#....O.#O..OO.O#.......#.....#....#.....##OO#..O..#OO.....#.....#..OO#..O#..O.O#OO.O.O...O.OO.\\nOO#....O....O#....#O#.....#.....O.#O#..OO.OO.O..#..O....#O..O#.#O#..OOO...##...#..#...O..O...O#..O#.\\nO......O#...O.#......O.O..#..O.#.....O...O...OO###...#.OO......O..O....#..O#.O....#..#.#..#.OO..O...\\n...#...#O#O.......#.O#.O....OOO.O..OO#.O.O..O#....O....#OO..O.......O.#..#...#.....O...O.O..O..O.#..\\n.O#..#.O#.#O#.O#..O..#....#O#..#.O.##.O.OOOO.#O..O#....O..OOO.......OO.#...O..O#O..O#...#O...O.#....\\nO.#.O.#.O...O.#.......#O.O#O.##..#...#...O#...O#O#O.#O...O..O.....#.O.##OO.O...O#.#...O.O#...#..O###\\nO.......O#..#......#....OO.O.#O..##O...OOO.O....O..#O....#.#..##OOO.OO#.....#..O.O...#O...O..O.O..OO\\n...O..O#O.O..O...##.....O.O.#O........O.###O#..#...#.OO.#.O.....OOO.#.......O..O.OO..O#...O.....O#..\\n........#..O#..#O.#OO.O.O..#.##..#O..#.O......O.O.#O.O.......#O#..O..##..O#.......O.#..O.#.O.O.O#O..\\n#..O....O.....#.O....O..##....O...O........#O....#...#..O....#....#..#O.O.......O.OOO..#...OO...#.#.\\n.O.O..#OO..O..O.O.........##..O...........OO..O.O.....OO...O#.#.......#...O#O...#..O.O...O.O#...#...\\nO.....#O.......O#..O..O..##O..#.......#...#.O......O...O..#...O..O..OO.#O..O..O.#......OO...#...OO#O\\n..###O.........O..#.#.#.#.O..O.#....#...#..O##O#..#O#.O#OO.O.O....O.....#O...#..O..#O..O....#.....#.\\n....O#.O..#......#..OOO..#.O.O...O.#O.......O.O.#####..#.....#.#.#....#...O#..O.O.O.O...O..#.......O'"
      ]
     },
     "execution_count": 6,
     "metadata": {},
     "output_type": "execute_result"
    }
   ],
   "source": [
    "with open(\"14-input\", \"r\") as file:\n",
    "    lines = file.readlines()\n",
    "data_raw = [line.replace(\"\\n\", \"\") for line in lines]\n",
    "data_raw = \"\\n\".join(data_raw)\n",
    "data_raw"
   ]
  },
  {
   "cell_type": "code",
   "execution_count": 4,
   "metadata": {},
   "outputs": [
    {
     "data": {
      "text/plain": [
       "array([['O', '.', '.', '.', '.', '#', '.', '.', '.', '.'],\n",
       "       ['O', '.', 'O', 'O', '#', '.', '.', '.', '.', '#'],\n",
       "       ['.', '.', '.', '.', '.', '#', '#', '.', '.', '.'],\n",
       "       ['O', 'O', '.', '#', 'O', '.', '.', '.', '.', 'O'],\n",
       "       ['.', 'O', '.', '.', '.', '.', '.', 'O', '#', '.'],\n",
       "       ['O', '.', '#', '.', '.', 'O', '.', '#', '.', '#'],\n",
       "       ['.', '.', 'O', '.', '.', '#', 'O', '.', '.', 'O'],\n",
       "       ['.', '.', '.', '.', '.', '.', '.', 'O', '.', '.'],\n",
       "       ['#', '.', '.', '.', '.', '#', '#', '#', '.', '.'],\n",
       "       ['#', 'O', 'O', '.', '.', '#', '.', '.', '.', '.']], dtype='<U10')"
      ]
     },
     "execution_count": 4,
     "metadata": {},
     "output_type": "execute_result"
    }
   ],
   "source": [
    "test_data_raw = \"\"\"O....#....\n",
    "O.OO#....#\n",
    ".....##...\n",
    "OO.#O....O\n",
    ".O.....O#.\n",
    "O.#..O.#.#\n",
    "..O..#O..O\n",
    ".......O..\n",
    "#....###..\n",
    "#OO..#....\"\"\"\n",
    "\n",
    "\n",
    "\n",
    "def preprocess_data (data):\n",
    "    return np.array([list(row)  for row in data.split(\"\\n\")], dtype='U10')\n",
    "\n",
    "test_data = preprocess_data(test_data_raw)\n",
    "test_data"
   ]
  },
  {
   "cell_type": "code",
   "execution_count": 7,
   "metadata": {},
   "outputs": [
    {
     "data": {
      "text/plain": [
       "array([['#', '.', '.', ..., '.', '.', '#'],\n",
       "       ['O', '.', '.', ..., '#', '#', '.'],\n",
       "       ['.', '.', '.', ..., '.', '.', '#'],\n",
       "       ...,\n",
       "       ['O', '.', '.', ..., 'O', '#', 'O'],\n",
       "       ['.', '.', '#', ..., '.', '#', '.'],\n",
       "       ['.', '.', '.', ..., '.', '.', 'O']], dtype='<U10')"
      ]
     },
     "execution_count": 7,
     "metadata": {},
     "output_type": "execute_result"
    }
   ],
   "source": [
    "data = preprocess_data(data_raw)\n",
    "data"
   ]
  },
  {
   "cell_type": "code",
   "execution_count": 32,
   "metadata": {},
   "outputs": [
    {
     "name": "stdout",
     "output_type": "stream",
     "text": [
      "108144\n"
     ]
    }
   ],
   "source": [
    "\n",
    "\n",
    "def solution (data, verbose=False):\n",
    "    \n",
    "    def tilt_up (data):\n",
    "        data_tilted = np.zeros_like(data)\n",
    "        for col_idx in range(data.shape[1]):\n",
    "            parts = \"\".join(data[:, col_idx].tolist()).split(\"#\")\n",
    "            parts = [\"O\"*part.count(\"O\") + \".\"*part.count(\".\") for part in parts]\n",
    "            data_tilted[:, col_idx] = np.array([list(\"#\".join(parts)) ], dtype='U10')\n",
    "        return data_tilted\n",
    "\n",
    "    def calc_loads (data):\n",
    "        loads = []\n",
    "        for row_idx in range(data.shape[0]):\n",
    "            multiplier = data.shape[0] - row_idx\n",
    "            loads.append(np.count_nonzero(data[row_idx, :] == \"O\") * multiplier)\n",
    "\n",
    "        return loads\n",
    "\n",
    "\n",
    "    data_tilted = tilt_up(data)\n",
    "    loads = calc_loads(data_tilted)\n",
    "\n",
    "    return sum(loads)\n",
    "\n",
    "\n",
    "sol = solution(data)\n",
    "# sol = solution(test_data, verbose=True)\n",
    "\n",
    "print(sol)\n",
    "# display(sum(sol))\n"
   ]
  },
  {
   "cell_type": "markdown",
   "metadata": {},
   "source": [
    "# Part 2"
   ]
  },
  {
   "cell_type": "code",
   "execution_count": 76,
   "metadata": {},
   "outputs": [
    {
     "name": "stdout",
     "output_type": "stream",
     "text": [
      "0.00 % done\n",
      "Cycle from index: 114\n",
      "[108472, 108455, 108440, 108424, 108410, 108404, 108425, 108440, 108472, 108481, 108483, 108467, 108460, 108435, 108429, 108405, 108409, 108420, 108445, 108467, 108486, 108478]\n",
      "[['#' '.' '.' ... 'O' 'O' '#']\n",
      " ['.' '.' '.' ... '#' '#' '.']\n",
      " ['.' '.' '.' ... '.' '.' '#']\n",
      " ...\n",
      " ['.' '.' 'O' ... '.' '#' '.']\n",
      " ['O' 'O' '#' ... 'O' '#' '.']\n",
      " ['.' '.' '.' ... 'O' 'O' 'O']]\n",
      "[['#' '.' '.' ... 'O' 'O' '#']\n",
      " ['.' '.' '.' ... '#' '#' '.']\n",
      " ['.' '.' '.' ... '.' '.' '#']\n",
      " ...\n",
      " ['.' '.' 'O' ... '.' '#' '.']\n",
      " ['O' 'O' '#' ... 'O' '#' '.']\n",
      " ['.' '.' '.' ... 'O' 'O' 'O']]\n",
      "Index in cycle 5\n",
      "total load 108404\n",
      "108404\n"
     ]
    }
   ],
   "source": [
    "def decode_string_to_numpy (data):\n",
    "    return np.array([list(row) for row in data.split(\"\\n\")], dtype='U10')\n",
    "\n",
    "def encode_numpy_to_string(data):\n",
    "    return \"\\n\".join([\"\".join(row) for row in data.tolist()])\n",
    "\n",
    "def solution (data, verbose=False):\n",
    "    \n",
    "\n",
    "    def tilt_up (data):\n",
    "        data_tilted = np.zeros_like(data)\n",
    "        for col_idx in range(data.shape[1]):\n",
    "            parts = \"\".join(data[:, col_idx].tolist()).split(\"#\")\n",
    "            parts = [\"O\"*part.count(\"O\") + \".\"*part.count(\".\") for part in parts]\n",
    "            data_tilted[:, col_idx] = np.array([list(\"#\".join(parts)) ], dtype='U10')\n",
    "        return data_tilted\n",
    "\n",
    "    def calc_loads (data):\n",
    "        loads = []\n",
    "        for row_idx in range(data.shape[0]):\n",
    "            multiplier = data.shape[0] - row_idx\n",
    "            loads.append(np.count_nonzero(data[row_idx, :] == \"O\") * multiplier)\n",
    "\n",
    "        return loads\n",
    "\n",
    "    @cache\n",
    "    def one_cycle (data_encoded):\n",
    "        data_decoded = decode_string_to_numpy(data_encoded)\n",
    "        for cycle_step in range(4):\n",
    "            data_decoded = tilt_up(data_decoded)\n",
    "            data_decoded = np.rot90(data_decoded, 3)\n",
    "        return data_decoded\n",
    "\n",
    "\n",
    "\n",
    "    # num_cycles = 1000000000\n",
    "    # num_cycles = 3\n",
    "    num_cycles = 10000 * 10\n",
    "    data_tilted = data.copy()\n",
    "    data_save = []\n",
    "    loads_save = []\n",
    "    total_save = []\n",
    "\n",
    "    total_load = -1\n",
    "\n",
    "    for cycle in range(num_cycles):\n",
    "        if verbose:\n",
    "            if cycle % 10000 == 0:\n",
    "                print(f\"{cycle / num_cycles * 100:.2f}\", \"% done\")\n",
    "        \n",
    "        data_encoded = encode_numpy_to_string(data_tilted)\n",
    "        data_tilted = one_cycle(data_encoded)\n",
    "        loads = calc_loads(data_tilted)\n",
    "        total_load = sum(loads)\n",
    "        found_match = False\n",
    "        match_index = -1\n",
    "        for index in [i for i, x in enumerate(total_save) if x == total_load]:\n",
    "            if loads == loads_save[index] and np.array_equal(data_tilted, data_save[index]):\n",
    "                found_match = True \n",
    "                match_index = index\n",
    "                break\n",
    "\n",
    "        if not found_match: \n",
    "            data_save.append (data_tilted)\n",
    "            loads_save.append(loads)\n",
    "            total_save.append(total_load)\n",
    "        else:\n",
    "            total_save_cycle = total_save[match_index:]\n",
    "            index_in_cylce = ((1000000000-1) - match_index) % len(total_save_cycle)\n",
    "            if verbose:\n",
    "                print(\"Cycle from index:\", match_index)\n",
    "                print(total_save_cycle)\n",
    "                print(data_save[match_index])\n",
    "                print(data_tilted)\n",
    "                print(\"Index in cycle\", index_in_cylce)\n",
    "                print(\"total load\", total_save_cycle[index_in_cylce])\n",
    "\n",
    "            total_load = total_save_cycle[index_in_cylce]\n",
    "            break\n",
    "\n",
    "        # print(loads, sum(loads))\n",
    "        # print(\"Cylce\", cycle, \"\\n\", data_tilted)\n",
    "    \n",
    "\n",
    "    return total_load\n",
    "\n",
    "\n",
    "sol = solution(data, verbose=True)\n",
    "# sol = solution(test_data, verbose=True)\n",
    "\n",
    "print(sol)\n",
    "# display(sum(sol))\n"
   ]
  }
 ],
 "metadata": {
  "kernelspec": {
   "display_name": "Python 3.8.8 ('base')",
   "language": "python",
   "name": "python3"
  },
  "language_info": {
   "codemirror_mode": {
    "name": "ipython",
    "version": 3
   },
   "file_extension": ".py",
   "mimetype": "text/x-python",
   "name": "python",
   "nbconvert_exporter": "python",
   "pygments_lexer": "ipython3",
   "version": "3.8.8"
  },
  "orig_nbformat": 4,
  "vscode": {
   "interpreter": {
    "hash": "155419e57043e3c6c91350c5428c6cc33fefa50a0d623da8550d7adba7f4f47b"
   }
  }
 },
 "nbformat": 4,
 "nbformat_minor": 2
}
