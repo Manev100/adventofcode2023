{
 "cells": [
  {
   "cell_type": "code",
   "execution_count": 2,
   "metadata": {},
   "outputs": [],
   "source": [
    "import numpy as np\n",
    "import re"
   ]
  },
  {
   "cell_type": "code",
   "execution_count": 16,
   "metadata": {},
   "outputs": [
    {
     "data": {
      "text/plain": [
       "'Time:     '"
      ]
     },
     "execution_count": 16,
     "metadata": {},
     "output_type": "execute_result"
    }
   ],
   "source": [
    "with open(\"06-input\", \"r\") as file:\n",
    "    lines = file.readlines()\n",
    "data_raw = [line.replace(\"\\n\", \"\") for line in lines]\n",
    "data_raw = \"\\n\".join(data_raw)\n",
    "data_raw[:10]"
   ]
  },
  {
   "cell_type": "code",
   "execution_count": 32,
   "metadata": {},
   "outputs": [
    {
     "data": {
      "text/plain": [
       "[(7, 9), (15, 40), (30, 200)]"
      ]
     },
     "execution_count": 32,
     "metadata": {},
     "output_type": "execute_result"
    }
   ],
   "source": [
    "test_data_raw = \"\"\"Time:      7  15   30\n",
    "Distance:  9  40  200\"\"\"\n",
    "\n",
    "def preprocess_data (data):\n",
    "    output = {line.split(\":\")[0]: line.split(\":\")[1].strip() for line in data.split(\"\\n\")}\n",
    "    output[\"Time\"] = [num for num in output[\"Time\"].split(\" \") if num != ''] \n",
    "    output[\"Distance\"] = [num for num in output[\"Distance\"].split(\" \") if num != ''] \n",
    "    output = [(int(time), int(dist)) for time, dist in zip(output[\"Time\"], output[\"Distance\"] )]\n",
    "    return output\n",
    "\n",
    "test_data = preprocess_data(test_data_raw)\n",
    "test_data"
   ]
  },
  {
   "cell_type": "code",
   "execution_count": 33,
   "metadata": {},
   "outputs": [],
   "source": [
    "data = preprocess_data(data_raw)"
   ]
  },
  {
   "cell_type": "code",
   "execution_count": 34,
   "metadata": {},
   "outputs": [
    {
     "data": {
      "text/plain": [
       "'30'"
      ]
     },
     "execution_count": 34,
     "metadata": {},
     "output_type": "execute_result"
    }
   ],
   "source": [
    "# re.findall(r'\\w+', test_data_raw)\n",
    "pattern_text = r'(?P<time>\\w+):\\s+(?P<a1>\\d+)\\s+(?P<a2>\\d+)\\s+(?P<a3>\\d+)'\n",
    "pattern = re.compile(pattern_text)\n",
    "match = pattern.match(test_data_raw)\n",
    "match.group('a3')"
   ]
  },
  {
   "cell_type": "code",
   "execution_count": 35,
   "metadata": {},
   "outputs": [
    {
     "data": {
      "text/plain": [
       "[(7, 9), (15, 40), (30, 200)]"
      ]
     },
     "execution_count": 35,
     "metadata": {},
     "output_type": "execute_result"
    }
   ],
   "source": [
    "test_data"
   ]
  },
  {
   "cell_type": "code",
   "execution_count": 40,
   "metadata": {},
   "outputs": [
    {
     "data": {
      "text/plain": [
       "[36, 23, 9, 37]"
      ]
     },
     "metadata": {},
     "output_type": "display_data"
    },
    {
     "name": "stdout",
     "output_type": "stream",
     "text": [
      "275724\n"
     ]
    }
   ],
   "source": [
    "def distance (charge_time, race_length):\n",
    "    return max((race_length - charge_time) * charge_time, 0)\n",
    "\n",
    "def solution (data):\n",
    "    \n",
    "    num_of_wins = []\n",
    "    for race in data:\n",
    "        wins = 0\n",
    "        for charge_time in range(1, race[0]):\n",
    "            if distance(charge_time, race[0]) > race[1]:\n",
    "                wins += 1\n",
    "\n",
    "        num_of_wins.append(wins)\n",
    "    return num_of_wins\n",
    "\n",
    "\n",
    "num_of_wins = solution(data)\n",
    "# num_of_wins = solution(test_data)\n",
    "# display(ranges)\n",
    "display(num_of_wins)\n",
    "print(np.prod(num_of_wins))"
   ]
  },
  {
   "cell_type": "code",
   "execution_count": 46,
   "metadata": {},
   "outputs": [
    {
     "name": "stdout",
     "output_type": "stream",
     "text": [
      "{'Time': 71530, 'Distance': 940200}\n",
      "{'Time': 59688274, 'Distance': 543102016641022}\n"
     ]
    }
   ],
   "source": [
    "def preprocess_data2 (data):\n",
    "    output = {line.split(\":\")[0]: line.split(\":\")[1].strip() for line in data.split(\"\\n\")}\n",
    "    output[\"Time\"] = int(\"\".join([num for num in output[\"Time\"].split(\" \") if num != '']))\n",
    "    output[\"Distance\"] = int(\"\".join([num for num in output[\"Distance\"].split(\" \") if num != '']))\n",
    "    return output\n",
    "\n",
    "test_data = preprocess_data2(test_data_raw)\n",
    "data = preprocess_data2(data_raw)\n",
    "print(test_data)\n",
    "print(data)"
   ]
  },
  {
   "cell_type": "code",
   "execution_count": 49,
   "metadata": {},
   "outputs": [
    {
     "name": "stdout",
     "output_type": "stream",
     "text": [
      "37286485\n"
     ]
    }
   ],
   "source": [
    "def solution (data, verbose=False):\n",
    "    if data == \"test_data\":\n",
    "        # solve -x^2 + 71530x > 940200\n",
    "        # 35765 - 5 * sqrt(51127801) < x < 35765 + 5 * sqrt(51127801)\n",
    "        # => 35765 + 5 * sqrt(51127801) - (35765 - 5 * sqrt(51127801))\n",
    "        # => 10 * sqrt(51127801)\n",
    "\n",
    "        return int(10 * np.sqrt(51127801))\n",
    "\n",
    "    elif data == \"data\":\n",
    "        # solve -x^2 + 59688274x > 543102016641022\n",
    "        # 29844137 - sqrt(347570496633747) < x < 29844137 + sqrt(347570496633747)\n",
    "        # => 29844137 + sqrt(347570496633747) - (29844137 - sqrt(347570496633747))\n",
    "        # => 2 * sqrt(347570496633747)\n",
    "        return int(2 * np.sqrt(347570496633747))\n",
    "\n",
    "    return 0\n",
    "\n",
    "\n",
    "sol = solution(\"data\", verbose=False)\n",
    "# sol = solution(\"test_data\", verbose=True)\n",
    "# display(ranges)\n",
    "# display(locs)\n",
    "print(sol)"
   ]
  },
  {
   "cell_type": "code",
   "execution_count": null,
   "metadata": {},
   "outputs": [],
   "source": []
  }
 ],
 "metadata": {
  "kernelspec": {
   "display_name": "Python 3.8.8 ('base')",
   "language": "python",
   "name": "python3"
  },
  "language_info": {
   "codemirror_mode": {
    "name": "ipython",
    "version": 3
   },
   "file_extension": ".py",
   "mimetype": "text/x-python",
   "name": "python",
   "nbconvert_exporter": "python",
   "pygments_lexer": "ipython3",
   "version": "3.8.8"
  },
  "orig_nbformat": 4,
  "vscode": {
   "interpreter": {
    "hash": "155419e57043e3c6c91350c5428c6cc33fefa50a0d623da8550d7adba7f4f47b"
   }
  }
 },
 "nbformat": 4,
 "nbformat_minor": 2
}
